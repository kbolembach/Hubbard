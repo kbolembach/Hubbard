{
 "cells": [
  {
   "cell_type": "code",
   "execution_count": null,
   "metadata": {},
   "outputs": [],
   "source": [
    "using LinearAlgebra\n",
    "\n",
    "t = 0\n",
    "U = 1\n",
    "chem_pot = 0\n",
    "const N = 2\n",
    "const basis_labels = reshape(Iterators.product([[0,1] for _ in 1:2N]...) .|> collect, (1, 2^(2N)))\n",
    "const next = [collect(2:N); 1]\n"
   ]
  },
  {
   "cell_type": "code",
   "execution_count": null,
   "metadata": {},
   "outputs": [],
   "source": [
    "label_to_idx(label::Vector{Integer}) = reduce(+, label .* [2^n for n in 0:length(label)-1]) + 1\n",
    "label_to_values(label::Vector{Integer}) = [x == label_to_idx(label) ? 1.0 : 0.0 for x in 1:(length(label))^2]\n",
    "normalize_vector(vec) = [x == 0 ? 0 : 1 for x in vec]\n",
    "\n",
    "Base.@kwdef struct StateVec\n",
    "    values::Vector{Float64}\n",
    "    no_nodes::Integer\n",
    "    is_zero::Bool = false # distinction - a state vector of all zeros is vacuum, but if is_zero == true, it's treated as a scalar zero\n",
    "end\n",
    "\n",
    "StateVec(label::Vector{Integer}) = StateVec(label_to_values(label), div(length(label), 2), false)\n",
    "StateVec(no_nodes::Integer, is_zero::Bool) = StateVec(zeros(4no_nodes^2), no_nodes, is_zero)\n",
    "is_superposition(statevec::StateVec) = 2statevec.no_nodes - 1 <= reduce(+, [x == 0 ? 0 : 1 for x in statevec.values])\n",
    "\n",
    "# pos = 2n - 1 spin up, 2n spin down; n = cell number\n",
    "function create(statevec::StateVec, pos)\n",
    "    if statevec.values[pos] == 1 || statevec.is_zero\n",
    "        return StateVec(statevec.no_nodes, true)\n",
    "    end\n",
    "    vals = copy(statevec.values)\n",
    "    vals[pos] = 1\n",
    "    return StateVec(vals, statevec.no_nodes, false)\n",
    "end\n",
    "\n",
    "function annihilate(statevec::StateVec, pos)\n",
    "    if statevec.values[pos] == 0 || statevec.is_zero\n",
    "        return StateVec(statevec.no_nodes, trues)\n",
    "    end\n",
    "    vals = copy(statevec.values)\n",
    "    vals[pos] = 0\n",
    "    return StateVec(vals, statevec.no_nodes, false)\n",
    "end\n",
    "\n",
    "up(cell_no) = Int(2cell_no - 1)\n",
    "down(cell_no) = Int(2cell_no)"
   ]
  },
  {
   "cell_type": "code",
   "execution_count": null,
   "metadata": {},
   "outputs": [],
   "source": [
    "\n",
    "# H |state>\n",
    "interacting_term(state, U, N) = \n",
    "\n",
    "function interacting_term(statevec::StateVec, basis_labels, U::Float64)\n",
    "    no_nodes = statevec.no_nodes\n",
    "    total = zero(statevec.values)\n",
    "    for (idx, val) in enumerate(statevec.values)\n",
    "        if val != 0\n",
    "            state = basis_labels[idx]\n",
    "            total += U * reduce(+, [state[up(n)] * state[down(n)] for n in 1:no_nodes]) .* label_to_values(state)\n",
    "        end\n",
    "    end\n",
    "    StateVec(total, no_nodes, false)\n",
    "end\n",
    "\n",
    "function kinetic_term(statevec::StateVec, t, next)\n",
    "    no_nodes = statevec.no_nodes\n",
    "    total = zero(statevec.values)\n",
    "    for (idx, val) in enumerate(statevec.values)\n",
    "        tmp1 = annihilate(state, up(next[n]))\n",
    "        tmp2 = create(tmp1, up(n))\n",
    "        if typeof(tmp2) != Int\n",
    "            total[label_to_idx(tmp2)] += 1\n",
    "        end\n",
    "        tmp3 = annihilate(state, down(next[n]))\n",
    "        tmp4 = create(tmp3, down(n))\n",
    "        if typeof(tmp4) != Int\n",
    "            total[label_to_idx(tmp4)] += 1\n",
    "        end\n",
    "    end\n",
    "    return t * total\n",
    "end\n",
    "\n",
    "# perform H |state> and get statevec of: alpha |state'>\n",
    "function hamiltonian_on_state(U, t, chem_pot, state, next)\n",
    "    N = div(length(state), 2)\n",
    "    # @show state\n",
    "    interacting = interacting_term(state, U, N)\n",
    "    # @show interacting\n",
    "    kinetic = kinetic_term(state, t, next)\n",
    "    # @show kinetic\n",
    "    chemical = chem_pot * reduce(+, state) .* label_to_values(state)\n",
    "    interacting + kinetic - chemical\n",
    "end\n",
    "\n",
    "function braket(bra, ket)\n",
    "#     if normalize_statevec(bra) == normalize_statevec(ket)\n",
    "        return dot(bra, ket)\n",
    "#     else\n",
    "#         return 0.0\n",
    "#     end\n",
    "end\n",
    "\n",
    "# for every H |state> multiply it by every possible <state'|\n",
    "function get_hamiltonian(basis_labels, U, t, chem_pot, next, N)\n",
    "    hamiltonian = zeros((2N)^2, (2N)^2)\n",
    "    right_side = [hamiltonian_on_state(U, t, chem_pot, state, next) for state in basis_labels]\n",
    "    for i in 1:(2N)^2, j in 1:(2N)^2\n",
    "        hamiltonian[i, j] = braket(label_to_values(basis_labels[i]), right_side[j])\n",
    "    end\n",
    "    hamiltonian\n",
    "end"
   ]
  },
  {
   "cell_type": "code",
   "execution_count": null,
   "metadata": {},
   "outputs": [],
   "source": [
    "state_vals_to_labels(state_vals) = [x != 0 ? x.* for (idx, x) in enumerate(state_vals)]"
   ]
  },
  {
   "cell_type": "code",
   "execution_count": null,
   "metadata": {},
   "outputs": [],
   "source": [
    "@show bra = label_to_values(basis_labels[13])\n",
    "@show ket = hamiltonian_on_state(1, 1, 0, basis_labels[10], next)\n",
    "braket(bra, ket)"
   ]
  },
  {
   "cell_type": "code",
   "execution_count": null,
   "metadata": {},
   "outputs": [],
   "source": [
    "m = get_hamiltonian(basis_labels, U, t, chem_pot, next, N)"
   ]
  },
  {
   "cell_type": "code",
   "execution_count": null,
   "metadata": {},
   "outputs": [],
   "source": [
    "real(eigvals(m))"
   ]
  },
  {
   "cell_type": "code",
   "execution_count": null,
   "metadata": {},
   "outputs": [],
   "source": [
    "using DelimitedFiles\n",
    "writedlm(\"matrix, mu=0txt\", m)\n",
    "writedlm(\"eigenvalues, mu=0.txt\", real(eigvals(m)))"
   ]
  },
  {
   "cell_type": "code",
   "execution_count": null,
   "metadata": {},
   "outputs": [],
   "source": [
    "using PlotlyJS\n",
    "potentials = collect(-4:0.01:4)\n",
    "eigs_mat = reduce(hcat,[real(eigvals(get_hamiltonian(basis_labels, U, t, pot, next, N))) for pot in potentials])'\n",
    "eigs_mat = [eigs_mat[:,i] for i in 1:size(eigs_mat,2)]\n",
    "layout = Layout(\n",
    "    title=\"Wartości własne dla różnych potencjałów chemicznych μ, U=t=1\",\n",
    "    xaxis_title=\"μ\",\n",
    "    yaxis_title=\"wartości własne hamiltonianu\",\n",
    ")\n",
    "pl = plot([scatter(x=potentials, y=eig, name=\"w. własna #$no\") for (eig, no) in zip(eigs_mat, 1:(2N)^2)], layout)"
   ]
  },
  {
   "cell_type": "code",
   "execution_count": null,
   "metadata": {},
   "outputs": [],
   "source": [
    "savefig(pl, \"wartosci_wlasne.png\")\n",
    "savefig(pl, \"wartosci_wlasne.html\")\n",
    "\n",
    "# oblożyć stanami op. liczby cząstek\n",
    "# model t-J"
   ]
  }
 ],
 "metadata": {
  "kernelspec": {
   "display_name": "Julia 1.6.3",
   "language": "julia",
   "name": "julia-1.6"
  },
  "language_info": {
   "file_extension": ".jl",
   "mimetype": "application/julia",
   "name": "julia",
   "version": "1.6.3"
  },
  "orig_nbformat": 4
 },
 "nbformat": 4,
 "nbformat_minor": 2
}
